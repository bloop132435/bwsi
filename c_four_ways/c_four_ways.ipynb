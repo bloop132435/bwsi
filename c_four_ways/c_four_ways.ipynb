{
 "cells": [
  {
   "cell_type": "markdown",
   "metadata": {},
   "source": [
    "# C four ways\n",
    "\n",
    "\n",
    "In this lab we'll be learning all the ways we will run C code in\n",
    "this class.\n",
    "\n",
    "We'll start out by setting up the development board from TI. Next, we'll play with running\n",
    "files compiled for Arm on this x86 machine. For this, we'll use QEMU.\n",
    "\n",
    "Remember, we have two types of emulators:\n",
    "  - a user level emulator\n",
    "  - a system level emulator\n",
    "\n",
    "We will use both. For each of these challenges, you will work in a linux terminal to run pre-compiled c\n",
    "code. If you run the file correctly, you will get string - send the string you find to the grader, but\n",
    "add a newline! If you got the correct string, you will get a flag.\n",
    "\n",
    "To run user-level emulation, use the command:\n",
    "    `run-arm-user myfile.bin`\n",
    "\n",
    "To run system-level emulation, use the command:\n",
    "    `run-arm-system myfile.bin`\n",
    "\n",
    "To run system-level emulation in a debugger:\n",
    "    (1) run `debug-arm-system myfile.bin`\n",
    "    (2) in another terminal, run `gdb-remote myfile.axf`\n",
    "\n",
    "\n"
   ]
  },
  {
   "cell_type": "markdown",
   "metadata": {},
   "source": [
    "### Challenge Name: ti_board (/embsec/c_four_ways/ti_board)\n",
    "\n",
    "\n",
    "Follow the instructions from TI to set up your board!\n",
    "\n",
    "If you are having difficulty getting your board recognized, try manually installing\n",
    "the drivers, from here: https://www.ti.com/lit/zip/slac632\n",
    "\n"
   ]
  },
  {
   "cell_type": "code",
   "execution_count": null,
   "metadata": {},
   "outputs": [],
   "source": [
    "from embsec import Serial\n",
    "\n",
    "def ti_board():\n",
    "    ser = Serial(\"/embsec/c_four_ways/ti_board\")\n",
    "    # Your code goes here!\n",
    "\n",
    "ti_board()\n"
   ]
  },
  {
   "cell_type": "markdown",
   "metadata": {},
   "source": [
    "### Challenge Name: user_level (/embsec/c_four_ways/user_level)\n",
    "\n",
    "\n",
    "Run the binary 'user_level.bin', and send it's output to the grader!\n",
    "\n"
   ]
  },
  {
   "cell_type": "code",
   "execution_count": null,
   "metadata": {},
   "outputs": [],
   "source": [
    "from embsec import Serial\n",
    "\n",
    "def user_level():\n",
    "    ser = Serial(\"/embsec/c_four_ways/user_level\")\n",
    "    # Your code goes here!\n",
    "\n",
    "user_level()\n"
   ]
  },
  {
   "cell_type": "markdown",
   "metadata": {},
   "source": [
    "### Challenge Name: system_level (/embsec/c_four_ways/system_level)\n",
    "\n",
    "\n",
    "Run the binary 'system_level.bin', and send it's output to the grader!\n",
    "\n",
    "hint: Look at UART ...\n",
    "\n"
   ]
  },
  {
   "cell_type": "code",
   "execution_count": null,
   "metadata": {},
   "outputs": [],
   "source": [
    "from embsec import Serial\n",
    "\n",
    "def system_level():\n",
    "    ser = Serial(\"/embsec/c_four_ways/system_level\")\n",
    "    # Your code goes here!\n",
    "\n",
    "system_level()\n"
   ]
  },
  {
   "cell_type": "markdown",
   "metadata": {},
   "source": [
    "### Challenge Name: system_level_debug (/embsec/c_four_ways/system_level_debug)\n",
    "\n",
    "\n",
    "Run the binary 'system_level_debug.bin', and send it's output to the grader!\n",
    "Hint: you will need to use the debugger...\n",
    "\n"
   ]
  },
  {
   "cell_type": "code",
   "execution_count": null,
   "metadata": {},
   "outputs": [],
   "source": [
    "from embsec import Serial\n",
    "\n",
    "def system_level_debug():\n",
    "    ser = Serial(\"/embsec/c_four_ways/system_level_debug\")\n",
    "    # Your code goes here!\n",
    "\n",
    "system_level_debug()\n"
   ]
  }
 ],
 "metadata": {},
 "nbformat": 4,
 "nbformat_minor": 4
}
